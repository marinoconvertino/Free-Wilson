{
 "cells": [
  {
   "cell_type": "code",
   "execution_count": 204,
   "id": "f9de4d58-da68-4f96-9fc6-cfbcece273fc",
   "metadata": {},
   "outputs": [],
   "source": [
    "import pandas as pd"
   ]
  },
  {
   "cell_type": "markdown",
   "id": "858fa2a1-ae37-41ad-8c79-3cfb767ed972",
   "metadata": {},
   "source": [
    "#### Fragment New Designs into R-Group"
   ]
  },
  {
   "cell_type": "code",
   "execution_count": 205,
   "id": "a1cb5262-17c4-4786-bf8a-9d737b34497b",
   "metadata": {},
   "outputs": [
    {
     "name": "stdout",
     "output_type": "stream",
     "text": [
      "\u001b[31m\u001b[1mGenerating R-groups\u001b[0m\n",
      "wrote R-groups to pred_rgroup.csv\n",
      "R1: 1\n",
      "R2: 1\n",
      "R3: 1\n",
      "R4: 1\n",
      "R5: 1\n",
      "R6: 1\n",
      "R7: 1\n",
      "R8: 1\n",
      "R9: 1\n",
      "R10: 1\n",
      "R11: 1\n",
      "R12: 1\n",
      "R13: 1\n",
      "R14: 4\n",
      "wrote descriptors to  pred_vector.csv\n"
     ]
    }
   ],
   "source": [
    "%run free_wilson.py rgroup --scaffold scaffold.mol --in test.smi --prefix pred"
   ]
  },
  {
   "cell_type": "markdown",
   "id": "c8ca1db7-32d7-4ccb-b352-a43135108075",
   "metadata": {},
   "source": [
    "#### Model info"
   ]
  },
  {
   "cell_type": "code",
   "execution_count": 212,
   "id": "49c5ea9b-76e6-44af-8526-19529fe50f8c",
   "metadata": {},
   "outputs": [],
   "source": [
    "# --- intercept --- #\n",
    "c = 7.78   # Tolerability model ALT 20221020\n",
    "# --- coefficients --- #\n",
    "coefficients = pd.read_csv('./ALT_coefficients.csv')   # Tolerability model ALT 20221020"
   ]
  },
  {
   "cell_type": "markdown",
   "id": "99c299c1-c23c-43f6-acc7-6d93fc0c6845",
   "metadata": {},
   "source": [
    "#### Read rgroup of molecules to predict"
   ]
  },
  {
   "cell_type": "code",
   "execution_count": 208,
   "id": "49b455be-6bed-4824-b7b0-efe517e250db",
   "metadata": {},
   "outputs": [],
   "source": [
    "df = pd.read_csv('./pred_rgroup.csv')"
   ]
  },
  {
   "cell_type": "code",
   "execution_count": 209,
   "id": "798a1a44-d168-4a5e-8590-08bac01dddaf",
   "metadata": {},
   "outputs": [
    {
     "name": "stdout",
     "output_type": "stream",
     "text": [
      "DT-551\n",
      "DT-660\n",
      "DT-569\n",
      "DT-603\n"
     ]
    }
   ],
   "source": [
    "ids_lst = []\n",
    "smiles_lst = []\n",
    "pred_lst = []\n",
    "\n",
    "for i, row in df.iterrows():\n",
    "    \n",
    "    ids = row['Name']\n",
    "    smi = row['SMILES']\n",
    "    \n",
    "    r_group_lst = row.to_list()[2:]\n",
    "    r_group_df = pd.DataFrame(r_group_lst, columns =['R-Group SMILES'])\n",
    "    r_group_coeff = r_group_df.merge(coefficients, on='R-Group SMILES', how='inner')\n",
    "    pred = r_group_coeff['Coefficient'].sum().round(3) + c\n",
    "    \n",
    "    ids_lst.append(ids)\n",
    "    smiles_lst.append(smi)\n",
    "    pred_lst.append(pred)\n",
    "    print(ids)\n",
    "\n",
    "pred_df = pd.DataFrame({'ID': ids_lst, 'SMILES': smiles_lst, 'Pred': pred_lst})\n",
    "\n",
    "# --- delete temporary lists and dataframes --- #\n",
    "del ids_lst, smiles_lst, pred_lst, r_group_lst\n",
    "del r_group_df, r_group_coeff"
   ]
  },
  {
   "cell_type": "code",
   "execution_count": 210,
   "id": "278e97cf-47da-446f-9fbd-50f1a04d32f6",
   "metadata": {},
   "outputs": [
    {
     "data": {
      "text/html": [
       "<div>\n",
       "<style scoped>\n",
       "    .dataframe tbody tr th:only-of-type {\n",
       "        vertical-align: middle;\n",
       "    }\n",
       "\n",
       "    .dataframe tbody tr th {\n",
       "        vertical-align: top;\n",
       "    }\n",
       "\n",
       "    .dataframe thead th {\n",
       "        text-align: right;\n",
       "    }\n",
       "</style>\n",
       "<table border=\"1\" class=\"dataframe\">\n",
       "  <thead>\n",
       "    <tr style=\"text-align: right;\">\n",
       "      <th></th>\n",
       "      <th>ID</th>\n",
       "      <th>SMILES</th>\n",
       "      <th>Pred</th>\n",
       "    </tr>\n",
       "  </thead>\n",
       "  <tbody>\n",
       "    <tr>\n",
       "      <th>0</th>\n",
       "      <td>DT-551</td>\n",
       "      <td>CCCNc1c2ccc3c(NCCC(=O)O)c(-c4nccn4C)c(-c4cccn4...</td>\n",
       "      <td>9.349</td>\n",
       "    </tr>\n",
       "    <tr>\n",
       "      <th>1</th>\n",
       "      <td>DT-660</td>\n",
       "      <td>CC(=O)NCCOCCOCCOCCOCCOCCNc1c2ccc3c(NCCC(=O)O)c...</td>\n",
       "      <td>12.536</td>\n",
       "    </tr>\n",
       "    <tr>\n",
       "      <th>2</th>\n",
       "      <td>DT-569</td>\n",
       "      <td>Cn1cccc1-c1c(-c2nccn2C)c(NCCC(=O)O)c2ccc3c(NCC...</td>\n",
       "      <td>14.121</td>\n",
       "    </tr>\n",
       "    <tr>\n",
       "      <th>3</th>\n",
       "      <td>DT-603</td>\n",
       "      <td>CN1CCN(c2c3ccc4c(NCCC(=O)O)c(-c5nccn5C)c(-c5cc...</td>\n",
       "      <td>7.671</td>\n",
       "    </tr>\n",
       "  </tbody>\n",
       "</table>\n",
       "</div>"
      ],
      "text/plain": [
       "       ID                                             SMILES    Pred\n",
       "0  DT-551  CCCNc1c2ccc3c(NCCC(=O)O)c(-c4nccn4C)c(-c4cccn4...   9.349\n",
       "1  DT-660  CC(=O)NCCOCCOCCOCCOCCOCCNc1c2ccc3c(NCCC(=O)O)c...  12.536\n",
       "2  DT-569  Cn1cccc1-c1c(-c2nccn2C)c(NCCC(=O)O)c2ccc3c(NCC...  14.121\n",
       "3  DT-603  CN1CCN(c2c3ccc4c(NCCC(=O)O)c(-c5nccn5C)c(-c5cc...   7.671"
      ]
     },
     "execution_count": 210,
     "metadata": {},
     "output_type": "execute_result"
    }
   ],
   "source": [
    "pred_df"
   ]
  },
  {
   "cell_type": "code",
   "execution_count": 211,
   "id": "582b9b7f-d495-4439-8b9b-561f091265e6",
   "metadata": {},
   "outputs": [],
   "source": [
    "pred_df.to_csv('./predictions_designs.csv', index=False, float_format='%.3f')"
   ]
  },
  {
   "cell_type": "code",
   "execution_count": null,
   "id": "0a49f164-4636-4965-878e-b88b841e899c",
   "metadata": {},
   "outputs": [],
   "source": []
  },
  {
   "cell_type": "code",
   "execution_count": null,
   "id": "45659b56-8017-43d4-9a48-eeb42c93eab4",
   "metadata": {},
   "outputs": [],
   "source": []
  }
 ],
 "metadata": {
  "kernelspec": {
   "display_name": "Python 3 (ipykernel)",
   "language": "python",
   "name": "python3"
  },
  "language_info": {
   "codemirror_mode": {
    "name": "ipython",
    "version": 3
   },
   "file_extension": ".py",
   "mimetype": "text/x-python",
   "name": "python",
   "nbconvert_exporter": "python",
   "pygments_lexer": "ipython3",
   "version": "3.10.5"
  }
 },
 "nbformat": 4,
 "nbformat_minor": 5
}
